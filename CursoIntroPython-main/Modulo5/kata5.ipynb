{
 "cells": [
  {
   "cell_type": "markdown",
   "metadata": {},
   "source": [
    "# Ejercicio 1\n",
    "\n",
    "Declaración de variables"
   ]
  },
  {
   "cell_type": "code",
   "execution_count": 19,
   "metadata": {},
   "outputs": [
    {
     "name": "stdout",
     "output_type": "stream",
     "text": [
      "La distancia entre ambos planetas es de 200 km\n",
      "La distancia entre ambos planetas es de 124.2 millas\n"
     ]
    }
   ],
   "source": [
    "planeta1 = 100\n",
    "planeta2 = 300\n",
    "\n",
    "km = abs((planeta1 - planeta2))\n",
    "millas = km*0.621\n",
    "print('La distancia entre ambos planetas es de ' +str(km) + ' km' )\n",
    "print('La distancia entre ambos planetas es de ' +str(millas) + ' millas' )"
   ]
  },
  {
   "cell_type": "markdown",
   "metadata": {},
   "source": [
    "# Ejercicio 2\n",
    "\n",
    "#### Almacenar las entradas del usuario\n"
   ]
  },
  {
   "cell_type": "code",
   "execution_count": 20,
   "metadata": {},
   "outputs": [],
   "source": [
    "planeta1 = input(\"¿Cuál es la distancia del primer planeta?\")\n",
    "planeta2 = input(\"¿Cuál es la distancia del segundo planeta?\")"
   ]
  },
  {
   "cell_type": "markdown",
   "metadata": {},
   "source": [
    "#### convertir valor"
   ]
  },
  {
   "cell_type": "code",
   "execution_count": 21,
   "metadata": {},
   "outputs": [],
   "source": [
    "planeta1 = int(planeta1)\n",
    "planeta2 = int(planeta2)"
   ]
  },
  {
   "cell_type": "markdown",
   "metadata": {},
   "source": [
    "#### Realizar operación"
   ]
  },
  {
   "cell_type": "code",
   "execution_count": 22,
   "metadata": {},
   "outputs": [
    {
     "name": "stdout",
     "output_type": "stream",
     "text": [
      "10km\n"
     ]
    }
   ],
   "source": [
    "distancia_km = abs(planeta1 - planeta2)\n",
    "print(str(distancia_km) + \"km\")"
   ]
  },
  {
   "cell_type": "markdown",
   "metadata": {},
   "source": [
    "##### convertir a millas"
   ]
  },
  {
   "cell_type": "code",
   "execution_count": null,
   "metadata": {},
   "outputs": [],
   "source": [
    "distancia_millas = distancia_km * 0.621\n",
    "print(distancia_millas + 'Millas')"
   ]
  }
 ],
 "metadata": {
  "interpreter": {
   "hash": "81501fb6968db567c48e2f6497df9bfcfab897da0876ab26c596c8e980f4fbda"
  },
  "kernelspec": {
   "display_name": "Python 3.9.5 64-bit",
   "language": "python",
   "name": "python3"
  },
  "language_info": {
   "codemirror_mode": {
    "name": "ipython",
    "version": 3
   },
   "file_extension": ".py",
   "mimetype": "text/x-python",
   "name": "python",
   "nbconvert_exporter": "python",
   "pygments_lexer": "ipython3",
   "version": "3.9.5"
  },
  "orig_nbformat": 4
 },
 "nbformat": 4,
 "nbformat_minor": 2
}
